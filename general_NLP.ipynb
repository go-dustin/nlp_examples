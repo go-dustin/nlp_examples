{
 "cells": [
  {
   "cell_type": "markdown",
   "metadata": {},
   "source": [
    "## Disclaimer\n",
    "#### This is my personal repository, this is not Google approved code\n",
    "#### Most of the code was taken from the documentation of the modules used"
   ]
  },
  {
   "cell_type": "code",
   "execution_count": 1,
   "metadata": {},
   "outputs": [],
   "source": [
    "import urllib.request\n",
    "\n",
    "pdf_url = 'https://www.toyota.com/t3Portal/document/om-s/OM60R53U/pdf/OM60R53U.pdf'\n",
    "webUrl  = urllib.request.urlopen(pdf_url)\n",
    "pdf_data = webUrl.read()"
   ]
  },
  {
   "cell_type": "code",
   "execution_count": 3,
   "metadata": {},
   "outputs": [],
   "source": [
    "from io import StringIO, BytesIO\n",
    "from pdfminer.converter import TextConverter\n",
    "from pdfminer.layout import LAParams\n",
    "from pdfminer.pdfdocument import PDFDocument\n",
    "from pdfminer.pdfinterp import PDFResourceManager, PDFPageInterpreter\n",
    "from pdfminer.pdfpage import PDFPage\n",
    "from pdfminer.pdfparser import PDFParser\n",
    "\n",
    "\n",
    "output_string = StringIO()\n",
    "parser = PDFParser(BytesIO(pdf_data))\n",
    "doc = PDFDocument(parser)\n",
    "rsrcmgr = PDFResourceManager()\n",
    "device = TextConverter(rsrcmgr, output_string, laparams=LAParams())\n",
    "interpreter = PDFPageInterpreter(rsrcmgr, device)\n",
    "for page in PDFPage.create_pages(doc):\n",
    "    interpreter.process_page(page)\n",
    "\n",
    "pdf_text = output_string.getvalue()"
   ]
  },
  {
   "cell_type": "code",
   "execution_count": 6,
   "metadata": {},
   "outputs": [
    {
     "name": "stdout",
     "output_type": "stream",
     "text": [
      "23377 words were found\n"
     ]
    }
   ],
   "source": [
    "import spacy\n",
    "nlp = spacy.load('en_core_web_lg')\n",
    "\n",
    "spacy_doc = nlp(pdf_text)\n",
    "word_list_raw = [i.text.upper() for i in spacy_doc if i.string.isalpha() == True] #isalnum\n",
    "word_count = len(word_list_raw)\n",
    "print(f'{word_count} words were found')"
   ]
  },
  {
   "cell_type": "code",
   "execution_count": 7,
   "metadata": {},
   "outputs": [
    {
     "data": {
      "text/plain": [
       "[('essary', 'GPE'),\n",
       " ('the State of California', 'ORG'),\n",
       " ('Trip meters', 'FAC'),\n",
       " ('Rear', 'ORG'),\n",
       " ('U.S.A', 'GPE'),\n",
       " ('SAE', 'ORG'),\n",
       " ('Federal\\n\\nMotor Vehicle Safety Standards', 'ORG'),\n",
       " ('sary', 'PERSON'),\n",
       " ('Navigation', 'ORG'),\n",
       " ('Headlight System Malfunction Visit Your Dealer', 'WORK_OF_ART')]"
      ]
     },
     "execution_count": 7,
     "metadata": {},
     "output_type": "execute_result"
    }
   ],
   "source": [
    "blacklist = ['CARDINAL', 'QUANTITY', 'DATE', 'TIME', 'PERCENT']\n",
    "entities = set([(ent.text, ent.label_) for ent in spacy_doc.ents if ent.label_ not in blacklist])\n",
    "list(entities)[:10]"
   ]
  },
  {
   "cell_type": "code",
   "execution_count": 12,
   "metadata": {},
   "outputs": [
    {
     "data": {
      "text/html": [
       "<div>\n",
       "<style scoped>\n",
       "    .dataframe tbody tr th:only-of-type {\n",
       "        vertical-align: middle;\n",
       "    }\n",
       "\n",
       "    .dataframe tbody tr th {\n",
       "        vertical-align: top;\n",
       "    }\n",
       "\n",
       "    .dataframe thead th {\n",
       "        text-align: right;\n",
       "    }\n",
       "</style>\n",
       "<table border=\"1\" class=\"dataframe\">\n",
       "  <thead>\n",
       "    <tr style=\"text-align: right;\">\n",
       "      <th></th>\n",
       "      <th>word</th>\n",
       "      <th>count</th>\n",
       "    </tr>\n",
       "  </thead>\n",
       "  <tbody>\n",
       "    <tr>\n",
       "      <th>0</th>\n",
       "      <td>PICTORIAL INDEX</td>\n",
       "      <td>15</td>\n",
       "    </tr>\n",
       "    <tr>\n",
       "      <th>1</th>\n",
       "      <td>WARNING LIGHTS</td>\n",
       "      <td>19</td>\n",
       "    </tr>\n",
       "    <tr>\n",
       "      <th>2</th>\n",
       "      <td>INTERIOR FEATURES</td>\n",
       "      <td>31</td>\n",
       "    </tr>\n",
       "    <tr>\n",
       "      <th>3</th>\n",
       "      <td>VEHICLE SPECIFICATIONS</td>\n",
       "      <td>3</td>\n",
       "    </tr>\n",
       "    <tr>\n",
       "      <th>4</th>\n",
       "      <td>CUSTOMIZABLE FEATURES</td>\n",
       "      <td>17</td>\n",
       "    </tr>\n",
       "  </tbody>\n",
       "</table>\n",
       "</div>"
      ],
      "text/plain": [
       "                     word  count\n",
       "0         PICTORIAL INDEX     15\n",
       "1          WARNING LIGHTS     19\n",
       "2       INTERIOR FEATURES     31\n",
       "3  VEHICLE SPECIFICATIONS      3\n",
       "4   CUSTOMIZABLE FEATURES     17"
      ]
     },
     "execution_count": 12,
     "metadata": {},
     "output_type": "execute_result"
    }
   ],
   "source": [
    "import textacy\n",
    "import collections\n",
    "import pandas as pd\n",
    "\n",
    "import warnings\n",
    "warnings.filterwarnings('ignore')\n",
    "\n",
    "spacy_lang = textacy.load_spacy_lang('en')\n",
    "textacy_doc = textacy.make_spacy_doc(pdf_text)\n",
    "\n",
    "bigrams = list(textacy.extract.ngrams(spacy_doc, 2, filter_stops=True, filter_punct=True, filter_nums=True, min_freq=2))\n",
    "bigrams = [i.string.upper().strip() for i in bigrams]\n",
    "bigrams_counts_d = dict(collections.Counter(bigrams))\n",
    "bigrams_counts_df = pd.DataFrame.from_dict(bigrams_counts_d, orient='index', columns=['count']).reset_index().rename(columns={'index': 'word'})\n",
    "\n",
    "bigrams_counts_df.head()"
   ]
  },
  {
   "cell_type": "code",
   "execution_count": 13,
   "metadata": {},
   "outputs": [
    {
     "name": "stdout",
     "output_type": "stream",
     "text": [
      "leaded gasoline only\n",
      "\n",
      "Cold tire inflation \n",
      "pressure\n",
      "\n",
      "Engine oil capacity\n",
      "(Drain and refill — \n",
      "reference)\n",
      "\n",
      "Engine oil type\n",
      "\n",
      "With filter\n",
      "Without filter\n",
      "\n",
      "7.9 qt. (7.5 L, 6.6 Imp.qt.)\n",
      "7.5 qt. (7.1 L, 6.2 Imp.qt.)\n",
      "\n",
      "“Toyota Genuine Motor Oil” or equivalent\n",
      "\n",
      "P. 570\n",
      "\n",
      "P. 574\n",
      "\n",
      "P. 570\n",
      "\n",
      "LC200_OM_OM60R53U_(U)\n",
      "\n",
      "\f",
      " \n",
      "***** CLEANED BELOW *****\n",
      "\n",
      " L 20 4 Imp gal \n",
      "Fuel type\n",
      "Unleaded gasoline only\n",
      "Cold tire inflation \n",
      "pressure\n",
      "Engine oil capacity\n",
      " Drain and refill \n",
      "reference \n",
      "Engine oil type\n",
      "With filter\n",
      "Without filter\n",
      "7 9 qt 7 5 L 6 6 Imp qt \n",
      "7 5 qt 7 1 L 6 2 Imp qt \n",
      " Toyota Genuine Motor Oil or equivalent\n",
      "P 570\n",
      "P 574\n",
      "P 570\n",
      "LC200 OM OM60R53U U\n"
     ]
    }
   ],
   "source": [
    "from textacy import preprocessing\n",
    "\n",
    "clean_text_1 = preprocessing.remove_punctuation(pdf_text)\n",
    "clean_text_2 = preprocessing.normalize_quotation_marks(clean_text_1)\n",
    "clean_text_3 = preprocessing.normalize_hyphenated_words(clean_text_2)\n",
    "clean_text_4 = preprocessing.normalize_whitespace(clean_text_3)\n",
    "\n",
    "print(pdf_text[-300:], '\\n***** CLEANED BELOW *****\\n')\n",
    "print(clean_text_4[-300:])"
   ]
  },
  {
   "cell_type": "code",
   "execution_count": 14,
   "metadata": {},
   "outputs": [
    {
     "data": {
      "text/plain": [
       "[('tire pressure warning system', 0.00691468915388741),\n",
       " ('brake system warning light', 0.006511627766705243),\n",
       " ('automatic light control system', 0.006426136496327587),\n",
       " ('passenger vehicle tire', 0.00619370440178992),\n",
       " ('vehicle distance control mode', 0.0061133277897856015),\n",
       " ('tire pressure warning reset switch', 0.005955464209931521),\n",
       " ('safety system warning light', 0.0059288098674012265),\n",
       " ('tire pressure warning light', 0.00586815147238413),\n",
       " ('Impact detection door lock release system', 0.00586548902076033),\n",
       " ('vehicle system', 0.005704889425308061)]"
      ]
     },
     "execution_count": 14,
     "metadata": {},
     "output_type": "execute_result"
    }
   ],
   "source": [
    "import textacy.ke\n",
    "textacy.ke.textrank(textacy_doc, normalize=\"lemma\", topn=10)"
   ]
  },
  {
   "cell_type": "code",
   "execution_count": 15,
   "metadata": {},
   "outputs": [
    {
     "data": {
      "text/plain": [
       "{'pictorial index': 15,\n",
       " 'warning light': 60,\n",
       " '4 drive': 2,\n",
       " '5 Interior': 2,\n",
       " 'Interior feature': 3,\n",
       " 'interior feature': 28,\n",
       " 'vehicle specification': 3,\n",
       " 'customizable feature': 16,\n",
       " 'U.S. owner': 8,\n",
       " 'report safety': 5}"
      ]
     },
     "execution_count": 15,
     "metadata": {},
     "output_type": "execute_result"
    }
   ],
   "source": [
    "terms = textacy_doc._.to_bag_of_terms(ngrams=(2, 3), entities=True, weighting=\"count\", as_strings=True)\n",
    "dict(list(terms.items())[0:10])"
   ]
  },
  {
   "cell_type": "code",
   "execution_count": null,
   "metadata": {},
   "outputs": [],
   "source": []
  }
 ],
 "metadata": {
  "kernelspec": {
   "display_name": "Python 3",
   "language": "python",
   "name": "python3"
  },
  "language_info": {
   "codemirror_mode": {
    "name": "ipython",
    "version": 3
   },
   "file_extension": ".py",
   "mimetype": "text/x-python",
   "name": "python",
   "nbconvert_exporter": "python",
   "pygments_lexer": "ipython3",
   "version": "3.7.6"
  }
 },
 "nbformat": 4,
 "nbformat_minor": 4
}
